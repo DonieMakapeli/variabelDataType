{
 "cells": [
  {
   "cell_type": "markdown",
   "id": "cdd341e6",
   "metadata": {},
   "source": [
    "<h1>Belajar Variabel dan Tipe Data</h1><hr>\n",
    "Tipe data di pyhton yaitu <b>Integer, Float, Boolean, String, Complex</b>"
   ]
  },
  {
   "cell_type": "code",
   "execution_count": 45,
   "id": "4234e5b1",
   "metadata": {},
   "outputs": [
    {
     "name": "stdout",
     "output_type": "stream",
     "text": [
      "100\n",
      "<class 'int'>\n"
     ]
    }
   ],
   "source": [
    "data_integer = 100\n",
    "data_integer\n",
    "print(data_integer)\n",
    "print(type(data_integer))"
   ]
  },
  {
   "cell_type": "code",
   "execution_count": 44,
   "id": "90f01652",
   "metadata": {},
   "outputs": [
    {
     "name": "stdout",
     "output_type": "stream",
     "text": [
      "10.5\n",
      "<class 'float'>\n"
     ]
    }
   ],
   "source": [
    "data_float = 10.5\n",
    "print(data_float)\n",
    "print(type(data_float))"
   ]
  },
  {
   "cell_type": "code",
   "execution_count": 43,
   "id": "3a07afdd",
   "metadata": {},
   "outputs": [
    {
     "name": "stdout",
     "output_type": "stream",
     "text": [
      "True\n",
      "<class 'bool'>\n"
     ]
    }
   ],
   "source": [
    "data_boolean = True\n",
    "print(data_boolean)\n",
    "print(type(data_boolean))"
   ]
  },
  {
   "cell_type": "code",
   "execution_count": 40,
   "id": "73113a51",
   "metadata": {},
   "outputs": [
    {
     "name": "stdout",
     "output_type": "stream",
     "text": [
      "14\n",
      "<class 'str'>\n"
     ]
    }
   ],
   "source": [
    "data_string = \"14\"\n",
    "print(data_string)\n",
    "print(type(data_string))"
   ]
  },
  {
   "cell_type": "code",
   "execution_count": 46,
   "id": "5f19e7a9",
   "metadata": {},
   "outputs": [
    {
     "name": "stdout",
     "output_type": "stream",
     "text": [
      "(5+6j)\n",
      "<class 'complex'>\n"
     ]
    }
   ],
   "source": [
    "data_complex = complex(5,6)\n",
    "print(data_complex)\n",
    "print(type(data_complex))"
   ]
  },
  {
   "cell_type": "markdown",
   "id": "1372a41f",
   "metadata": {},
   "source": [
    "<h2>Casting</h2><hr>\n",
    "<b><font color=\"blue\">Casting</font></b> adalah proses melakukan konversi tipe data<br>\n",
    "<ol>\n",
    "    <li>Sintak casting menggunakan (tipe data)</li>\n",
    "    <li>Casting dapat dilakukan untuk semua tipe data</li>\n",
    "</ol>"
   ]
  },
  {
   "cell_type": "code",
   "execution_count": 47,
   "id": "00e4abe9",
   "metadata": {},
   "outputs": [
    {
     "name": "stdout",
     "output_type": "stream",
     "text": [
      "100\n",
      "100.0\n",
      "True\n",
      "(100+0j)\n",
      "<class 'str'>\n",
      "<class 'float'>\n",
      "<class 'bool'>\n",
      "<class 'complex'>\n"
     ]
    }
   ],
   "source": [
    "int_to_string = str(data_integer)\n",
    "int_to_float = float(data_integer)\n",
    "int_to_boolean = bool(data_integer)\n",
    "int_to_complex = complex(data_integer)\n",
    "\n",
    "print(int_to_string)\n",
    "print(int_to_float)\n",
    "print(int_to_boolean)\n",
    "print(int_to_complex)\n",
    "\n",
    "print(type(int_to_string))\n",
    "print(type(int_to_float))\n",
    "print(type(int_to_boolean))\n",
    "print(type(int_to_complex))"
   ]
  },
  {
   "cell_type": "code",
   "execution_count": 48,
   "id": "1a36bb15",
   "metadata": {},
   "outputs": [
    {
     "name": "stdout",
     "output_type": "stream",
     "text": [
      "14\n",
      "10.5\n",
      "True\n",
      "(5+6j)\n",
      "<class 'str'>\n",
      "<class 'float'>\n",
      "<class 'bool'>\n",
      "<class 'complex'>\n"
     ]
    }
   ],
   "source": [
    "str_to_string = str(data_string)\n",
    "str_to_float = float(data_float)\n",
    "str_to_boolean = bool(data_boolean)\n",
    "str_to_complex = complex(data_complex)\n",
    "\n",
    "print(str_to_string)\n",
    "print(str_to_float)\n",
    "print(str_to_boolean)\n",
    "print(str_to_complex)\n",
    "\n",
    "print(type(str_to_string))\n",
    "print(type(str_to_float))\n",
    "print(type(str_to_boolean))\n",
    "print(type(str_to_complex))"
   ]
  },
  {
   "cell_type": "code",
   "execution_count": 42,
   "id": "af6c2370",
   "metadata": {},
   "outputs": [
    {
     "name": "stdout",
     "output_type": "stream",
     "text": [
      "14\n",
      "14.0\n",
      "True\n"
     ]
    }
   ],
   "source": [
    "string_to_int = int(data_string)\n",
    "string_to_float = float(data_string)\n",
    "string_to_bool = bool(data_string)\n",
    "\n",
    "print(string_to_int)\n",
    "print(string_to_float)\n",
    "print(string_to_bool)\n"
   ]
  }
 ],
 "metadata": {
  "kernelspec": {
   "display_name": "Python 3 (ipykernel)",
   "language": "python",
   "name": "python3"
  },
  "language_info": {
   "codemirror_mode": {
    "name": "ipython",
    "version": 3
   },
   "file_extension": ".py",
   "mimetype": "text/x-python",
   "name": "python",
   "nbconvert_exporter": "python",
   "pygments_lexer": "ipython3",
   "version": "3.9.12"
  }
 },
 "nbformat": 4,
 "nbformat_minor": 5
}
